{
 "cells": [
  {
   "cell_type": "code",
   "execution_count": null,
   "metadata": {},
   "outputs": [],
   "source": [
    "import cv2\n",
    "import tensorflow as tf\n",
    "from tensorflow.keras.models import load_model\n",
    "import numpy as np\n",
    "import h5py\n",
    "import json\n",
    "\n",
    "#model = load_model(\"E:\\COVID-19 project\\MODEL\")\n",
    "with open(\"E:\\COVID-19 project\\model_config1.json\") as json_file:\n",
    "    json_config = json_file.read()\n",
    "model = tf.keras.models.model_from_json(json_config)\n",
    "    \n",
    "model.load_weights(\"E:\\COVID-19 project\\weights.h5\")"
   ]
  },
  {
   "cell_type": "code",
   "execution_count": null,
   "metadata": {},
   "outputs": [],
   "source": [
    "\n",
    "faceCascade= cv2.CascadeClassifier(\"E:\\COVID-19 project\\haar-cascade-files-master\\haarcascade_frontalface_alt2.xml\")\n",
    "\n",
    "cap = cv2.VideoCapture(0)\n",
    "cap.set(3,3840)\n",
    "cap.set(4,2160)\n",
    "\n",
    "while True:\n",
    "    success, frame = cap.read()\n",
    "    frame = cv2.cvtColor(frame, cv2.COLOR_BGR2RGB)\n",
    "    faces = faceCascade.detectMultiScale(frame,1.1,3)\n",
    "    for (x,y,w,h) in faces:\n",
    "        inp = frame[y:y+h, x:x+w]\n",
    "        inp = cv2.resize(inp, (224,224))\n",
    "        pred = model.predict(np.expand_dims(inp, axis=0))[0][0]\n",
    "        if pred >= 0.5:\n",
    "            cv2.rectangle(frame,(x,y),(x+w,y+h),(0,0,255),2)\n",
    "            cv2.rectangle(frame,(x,y+h-(h//10)),(x+w,y+h),(0,0,255),cv2.FILLED)\n",
    "            cv2.putText(frame,\"NO MASK PRESENT; ACCURACY {}%\".format(pred*100),(x,y+h-(h//30)),cv2.FONT_ITALIC,0.5,(0,0,0),2)\n",
    "        else:\n",
    "            cv2.rectangle(frame,(x,y),(x+w,y+h),(0,255,0),2)\n",
    "            cv2.rectangle(frame,(x,y+h-(h//10)),(x+w,y+h),(0,255,0),cv2.FILLED)\n",
    "            cv2.putText(frame,\"MASK PRESENT; ACCURACY {}%\".format((1- pred)*100),(x,y+h-(h//30)),cv2.FONT_ITALIC,0.5,(0,0,0),2)\n",
    "    cv2.imshow(\"Live\",frame)\n",
    "    if cv2.waitKey(1) and 0xFF == ord('q'):\n",
    "        break\n",
    "cv2.destroyAllWindows()\n",
    "cap.release()"
   ]
  },
  {
   "cell_type": "markdown",
   "metadata": {},
   "source": [
    "# **Real Time COVID-19 Face Mask Detection**\n",
    "\n",
    "---\n",
    "\n",
    "\n",
    "A real time COVID-19 face mask detection using webcam and fine tuning the VGG16 keras model.\n",
    "### **Abstract**\n",
    "\n",
    "---\n",
    "This projects aims to automatically detect whether a person is wearing a mask or not in real time using webcam. To accomplish this task, we fine tuned the VGG16 keras model. The webcam detect the frontal faces using the Viola Jones Haar Cascade Classifier ***(\"haarcascade_frontalface_alt2.xml\")*** and then resize the croped face detected from original frame into 224x224 BGR image. This 224x224 BGR image is then inputted to the fine tuned VGG16 keras model which classify the face as masked or not-masked with certain accuracy.\n",
    "### **Dataset**\n",
    "\n",
    "---\n",
    "I have used [Face Mask 12k image dataset](https://www.kaggle.com/ashishjangra27/face-mask-12k-images-dataset) from kaggle to train VGG16 classification model.\n",
    "### **Environment**\n",
    "\n",
    "---\n",
    "\n",
    "\n",
    "I used the google colab gpu to train the classification model(VGG16) with tensorflow version 2.2.0 but for real time detection I load the model files and used them in my jupyter notebook as webcam(hardware) can not be mounted with google colab for real time detection or atleast I do not know.\n",
    "### **Software**\n",
    "\n",
    "---\n",
    "In my Jupyter Notebook I have -\n",
    "\n",
    "*   Tensorflow CPU version 2.1.0\n",
    "*   keras version 2.2.4-tf\n",
    "\n",
    "*   Open CV version 3.4.2\n",
    "*   Python version 3.7.7\n",
    "\n",
    "installed.\n",
    "### **Result**\n",
    "\n",
    "---\n",
    "I am here attaching some of the screenshots captured during the real time testing.\n",
    "\n",
    "![Test Image](E:\\face_mask_detection\\Screenshot (1074).png)\n",
    "\n",
    "\n"
   ]
  },
  {
   "cell_type": "code",
   "execution_count": null,
   "metadata": {},
   "outputs": [],
   "source": []
  }
 ],
 "metadata": {
  "kernelspec": {
   "display_name": "Python 3",
   "language": "python",
   "name": "python3"
  },
  "language_info": {
   "codemirror_mode": {
    "name": "ipython",
    "version": 3
   },
   "file_extension": ".py",
   "mimetype": "text/x-python",
   "name": "python",
   "nbconvert_exporter": "python",
   "pygments_lexer": "ipython3",
   "version": "3.7.7"
  }
 },
 "nbformat": 4,
 "nbformat_minor": 4
}
